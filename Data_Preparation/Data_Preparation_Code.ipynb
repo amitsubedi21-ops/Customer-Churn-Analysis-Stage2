{
 "cells": [
  {
   "cell_type": "code",
   "execution_count": 4,
   "id": "329988c3-9f57-4379-8926-80775961553d",
   "metadata": {},
   "outputs": [
    {
     "ename": "SyntaxError",
     "evalue": "invalid syntax (3870190335.py, line 1)",
     "output_type": "error",
     "traceback": [
      "  \u001b[36mCell\u001b[39m\u001b[36m \u001b[39m\u001b[32mIn[4]\u001b[39m\u001b[32m, line 1\u001b[39m\n\u001b[31m    \u001b[39m\u001b[31mimport joblib.\u001b[39m\n                  ^\n\u001b[31mSyntaxError\u001b[39m\u001b[31m:\u001b[39m invalid syntax\n"
     ]
    }
   ],
   "source": [
    "import joblib.\n",
    "import pandas as pd\n",
    "from sklearn.cluster import KMeans\n",
    "from sklearn.preprocessing import StandardScaler\n",
    "\n",
    "# Load the dataset\n",
    "url = 'https://drive.google.com/uc?id=1qBkAiPPQ9bTiaY6PcDq7Tmp8DQsCyyrZ'\n",
    "df = pd.read_csv(url)\n",
    "\n",
    "# Convert categorical variables to numeric\n",
    "df_encoded = pd.get_dummies(df)\n",
    "\n",
    "target_column = 'Churn_No'\n",
    "\n",
    "# Separate features and target variable\n",
    "X = df_encoded.drop([target_column, 'Churn_Yes'], axis=1)  # Drop the target variables\n",
    "\n",
    "# Standardize the features\n",
    "scaler = StandardScaler()\n",
    "X_scaled = scaler.fit_transform(X)\n",
    "\n",
    "# Train the clustering model (using 3 clusters as an example)\n",
    "kmeans = KMeans(n_clusters=3, random_state=42)\n",
    "kmeans.fit(X_scaled)\n",
    "\n",
    "# Save the trained model\n",
    "joblib.dump(kmeans, 'kmeans_model.pkl')\n",
    "\n",
    "print(\"Clustering model trained and saved as 'kmeans_model.pkl'\")\n"
   ]
  },
  {
   "cell_type": "code",
   "execution_count": null,
   "id": "0db1be94-a611-4ab2-ab7b-517467dbf4cc",
   "metadata": {},
   "outputs": [],
   "source": []
  },
  {
   "cell_type": "code",
   "execution_count": null,
   "id": "d973c6d2-2d52-4304-9f2b-d0601caaaec1",
   "metadata": {},
   "outputs": [],
   "source": []
  },
  {
   "cell_type": "code",
   "execution_count": null,
   "id": "3998086f-ee46-4461-a901-d213d36a42ed",
   "metadata": {},
   "outputs": [],
   "source": []
  },
  {
   "cell_type": "code",
   "execution_count": null,
   "id": "30de1cac-64ca-48c0-a9a2-b697e5ab8bf6",
   "metadata": {},
   "outputs": [],
   "source": []
  }
 ],
 "metadata": {
  "kernelspec": {
   "display_name": "Python 3 (ipykernel)",
   "language": "python",
   "name": "python3"
  },
  "language_info": {
   "codemirror_mode": {
    "name": "ipython",
    "version": 3
   },
   "file_extension": ".py",
   "mimetype": "text/x-python",
   "name": "python",
   "nbconvert_exporter": "python",
   "pygments_lexer": "ipython3",
   "version": "3.13.7"
  }
 },
 "nbformat": 4,
 "nbformat_minor": 5
}
