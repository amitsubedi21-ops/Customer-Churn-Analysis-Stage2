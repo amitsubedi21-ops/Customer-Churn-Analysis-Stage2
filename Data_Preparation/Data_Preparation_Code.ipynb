{
 "cells": [
  {
   "cell_type": "code",
   "execution_count": null,
   "id": "329988c3-9f57-4379-8926-80775961553d",
   "metadata": {},
   "outputs": [
    {
     "ename": "SyntaxError",
     "evalue": "invalid syntax (3870190335.py, line 1)",
     "output_type": "error",
     "traceback": [
      "  \u001b[36mCell\u001b[39m\u001b[36m \u001b[39m\u001b[32mIn[4]\u001b[39m\u001b[32m, line 1\u001b[39m\n\u001b[31m    \u001b[39m\u001b[31mimport joblib.\u001b[39m\n                  ^\n\u001b[31mSyntaxError\u001b[39m\u001b[31m:\u001b[39m invalid syntax\n"
     ]
    }
   ],
   "source": [
    "# Stage 2: Scaling + K-Means (k=4)\n",
    "\n",
    "import os\n",
    "import joblib\n",
    "import pandas as pd\n",
    "from sklearn.model_selection import train_test_split\n",
    "from sklearn.preprocessing import StandardScaler\n",
    "from sklearn.cluster import KMeans\n",
    "\n",
    "# load data (local preprocessed CSV)\n",
    "df = pd.read_csv('Data_Preparation/Preprocessed_Dataset.csv')\n",
    "\n",
    "# drop target columns (e.g., Churn, Churn_Yes/No)\n",
    "drop_targets = [c for c in df.columns if c.lower().startswith('churn')]\n",
    "X = df.drop(columns=drop_targets)\n",
    "\n",
    "# keep numeric features only\n",
    "X = X.select_dtypes(include='number')\n",
    "\n",
    "# split BEFORE scaling (80/20)\n",
    "X_train, X_test = train_test_split(X, test_size=0.2, random_state=42)\n",
    "\n",
    "# scale: fit on train, transform test\n",
    "scaler = StandardScaler()\n",
    "X_train_scaled = scaler.fit_transform(X_train)\n",
    "X_test_scaled  = scaler.transform(X_test)\n",
    "\n",
    "# train k-means (k=4)\n",
    "kmeans = KMeans(n_clusters=4, random_state=42)\n",
    "kmeans.fit(X_train_scaled)\n",
    "\n",
    "# save artifacts\n",
    "os.makedirs('Data_Preparation', exist_ok=True)\n",
    "os.makedirs('Clustering_Analysis/models', exist_ok=True)\n",
    "joblib.dump(scaler, 'Data_Preparation/scaler.pkl')\n",
    "joblib.dump(kmeans, 'Clustering_Analysis/models/kmeans_model.pkl')\n",
    "\n",
    "print(\"Saved scaler → Data_Preparation/scaler.pkl\")\n",
    "print(\"Saved model  → Clustering_Analysis/models/kmeans_model.pkl\")\n"
   ]
  },
  {
   "cell_type": "code",
   "execution_count": null,
   "id": "0db1be94-a611-4ab2-ab7b-517467dbf4cc",
   "metadata": {},
   "outputs": [],
   "source": []
  },
  {
   "cell_type": "code",
   "execution_count": null,
   "id": "d973c6d2-2d52-4304-9f2b-d0601caaaec1",
   "metadata": {},
   "outputs": [],
   "source": []
  },
  {
   "cell_type": "code",
   "execution_count": null,
   "id": "3998086f-ee46-4461-a901-d213d36a42ed",
   "metadata": {},
   "outputs": [],
   "source": []
  },
  {
   "cell_type": "code",
   "execution_count": null,
   "id": "30de1cac-64ca-48c0-a9a2-b697e5ab8bf6",
   "metadata": {},
   "outputs": [],
   "source": []
  }
 ],
 "metadata": {
  "kernelspec": {
   "display_name": "Python 3 (ipykernel)",
   "language": "python",
   "name": "python3"
  },
  "language_info": {
   "codemirror_mode": {
    "name": "ipython",
    "version": 3
   },
   "file_extension": ".py",
   "mimetype": "text/x-python",
   "name": "python",
   "nbconvert_exporter": "python",
   "pygments_lexer": "ipython3",
   "version": "3.13.7"
  }
 },
 "nbformat": 4,
 "nbformat_minor": 5
}
