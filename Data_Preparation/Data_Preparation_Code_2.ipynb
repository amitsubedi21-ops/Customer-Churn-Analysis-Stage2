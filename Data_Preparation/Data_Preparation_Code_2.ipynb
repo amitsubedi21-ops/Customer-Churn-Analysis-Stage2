{
 "cells": [
  {
   "cell_type": "code",
   "execution_count": 1,
   "id": "6a127586-e304-48c7-b783-d5f96e1ede9b",
   "metadata": {},
   "outputs": [
    {
     "ename": "ModuleNotFoundError",
     "evalue": "No module named 'pandas'",
     "output_type": "error",
     "traceback": [
      "\u001b[31m---------------------------------------------------------------------------\u001b[39m",
      "\u001b[31mModuleNotFoundError\u001b[39m                       Traceback (most recent call last)",
      "\u001b[36mCell\u001b[39m\u001b[36m \u001b[39m\u001b[32mIn[1]\u001b[39m\u001b[32m, line 1\u001b[39m\n\u001b[32m----> \u001b[39m\u001b[32m1\u001b[39m \u001b[38;5;28;01mimport\u001b[39;00m\u001b[38;5;250m \u001b[39m\u001b[34;01mpandas\u001b[39;00m\u001b[38;5;250m \u001b[39m\u001b[38;5;28;01mas\u001b[39;00m\u001b[38;5;250m \u001b[39m\u001b[34;01mpd\u001b[39;00m\n\u001b[32m      2\u001b[39m \u001b[38;5;28;01mfrom\u001b[39;00m\u001b[38;5;250m \u001b[39m\u001b[34;01msklearn\u001b[39;00m\u001b[34;01m.\u001b[39;00m\u001b[34;01mpreprocessing\u001b[39;00m\u001b[38;5;250m \u001b[39m\u001b[38;5;28;01mimport\u001b[39;00m StandardScaler\n\u001b[32m      3\u001b[39m \u001b[38;5;28;01mfrom\u001b[39;00m\u001b[38;5;250m \u001b[39m\u001b[34;01msklearn\u001b[39;00m\u001b[34;01m.\u001b[39;00m\u001b[34;01mcluster\u001b[39;00m\u001b[38;5;250m \u001b[39m\u001b[38;5;28;01mimport\u001b[39;00m KMeans\n",
      "\u001b[31mModuleNotFoundError\u001b[39m: No module named 'pandas'"
     ]
    }
   ],
   "source": [
    "import pandas as pd\n",
    "from sklearn.preprocessing import StandardScaler\n",
    "from sklearn.cluster import KMeans\n",
    "import matplotlib.pyplot as plt\n",
    "\n",
    "# Load the dataset\n",
    "url = 'https://drive.google.com/uc?id=1qBkAiPPQ9bTiaY6PcDq7Tmp8DQsCyyrZ'\n",
    "df = pd.read_csv(url)\n",
    "\n",
    "# Convert categorical variables to numeric\n",
    "df_encoded = pd.get_dummies(df)\n",
    "\n",
    "target_column = 'Churn_No'\n",
    "# Separate features and target variable\n",
    "X = df_encoded.drop([target_column, 'Churn_Yes'], axis=1)  # Drop the target variables\n",
    "\n",
    "# Standardize the features\n",
    "scaler = StandardScaler()\n",
    "X_scaled = scaler.fit_transform(X)\n",
    "\n",
    "# Determine the optimal number of clusters using the Elbow Method\n",
    "inertia = []\n",
    "K = range(1, 11)\n",
    "for k in K:\n",
    "    kmeans = KMeans(n_clusters=k, random_state=42)\n",
    "    kmeans.fit(X_scaled)\n",
    "    inertia.append(kmeans.inertia_)\n",
    "\n",
    "# Plot the Elbow Method graph\n",
    "plt.figure(figsize=(8, 6))\n",
    "plt.plot(K, inertia, marker='o')\n",
    "plt.xlabel('Number of clusters')\n",
    "plt.ylabel('Inertia')\n",
    "plt.title('Elbow Method for Optimal Number of Clusters')\n",
    "\n",
    "# Save the Elbow plot\n",
    "plt.savefig('elbow_method_plot.png')\n",
    "\n",
    "plt.show()\n"
   ]
  },
  {
   "cell_type": "code",
   "execution_count": 5,
   "id": "598bb334-3123-4059-b9a4-3ab89fd97df3",
   "metadata": {},
   "outputs": [
    {
     "name": "stdout",
     "output_type": "stream",
     "text": [
      "Scaling techniques documentation saved as scaling_techniques_documentation.pdf\n"
     ]
    }
   ],
   "source": [
    "from fpdf import FPDF\n",
    "# Create Scaling Techniques Documentation PDF\n",
    "pdf = FPDF()\n",
    "pdf.add_page()\n",
    "pdf.set_font(\"Arial\", size=12)\n",
    "pdf.set_font(\"Arial\", 'B', 16)\n",
    "pdf.cell(200, 10, txt=\"Scaling Techniques Documentation\", ln=True, align='C')\n",
    "pdf.ln(10)\n",
    "pdf.set_font(\"Arial\", size=12)\n",
    "scaling_techniques_text = \"\"\"\n",
    "In this project, we applied feature scaling to the numerical features using the StandardScaler from Scikit-learn. \n",
    "This technique standardizes the features by removing the mean and scaling to unit variance.\n",
    "\n",
    "Feature scaling is essential in the preprocessing pipeline to ensure that all features contribute equally to the model's learning process. \n",
    "Without scaling, features with larger ranges can disproportionately influence the model.\n",
    "\n",
    "The StandardScaler transforms each feature by subtracting the mean and scaling to unit variance. \n",
    "The formula used for scaling is:\n",
    "\n",
    "    X_scaled = (X - mean) / standard_deviation\n",
    "\n",
    "where:\n",
    "- X is the original feature value\n",
    "- mean is the average of the feature values\n",
    "- standard_deviation is the standard deviation of the feature values\n",
    "\n",
    "Below is the code snippet used for scaling the features:\n",
    "\n",
    "```python\n",
    "from sklearn.preprocessing import StandardScaler\n",
    "\n",
    "# Initialize the scaler\n",
    "scaler = StandardScaler()\n",
    "\n",
    "# Separate features and target variable\n",
    "target_column = 'Churn_No'  # Use 'Churn_No' as the target variable\n",
    "\n",
    "\n",
    "\n",
    "# Separate features and target variable\n",
    "X = df_encoded.drop([target_column, 'Churn_Yes'], axis=1)  # Drop the target variables\n",
    "\n",
    "# Standardize the features\n",
    "scaler = StandardScaler()\n",
    "X_scaled = scaler.fit_transform(X)\n",
    "\n",
    "\n",
    "\"\"\"\n",
    "\n",
    "pdf.multi_cell(0, 10, scaling_techniques_text)\n",
    "pdf_output_path = \"scaling_techniques_documentation.pdf\"\n",
    "pdf.output(pdf_output_path)\n",
    "\n",
    "print(f\"Scaling techniques documentation saved as {pdf_output_path}\")"
   ]
  },
  {
   "cell_type": "code",
   "execution_count": null,
   "id": "a40a6932-fdac-4bfe-9ba0-54fc746580bd",
   "metadata": {},
   "outputs": [],
   "source": []
  }
 ],
 "metadata": {
  "kernelspec": {
   "display_name": "Python 3 (ipykernel)",
   "language": "python",
   "name": "python3"
  },
  "language_info": {
   "codemirror_mode": {
    "name": "ipython",
    "version": 3
   },
   "file_extension": ".py",
   "mimetype": "text/x-python",
   "name": "python",
   "nbconvert_exporter": "python",
   "pygments_lexer": "ipython3",
   "version": "3.13.7"
  }
 },
 "nbformat": 4,
 "nbformat_minor": 5
}
